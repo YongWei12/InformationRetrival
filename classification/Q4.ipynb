{
  "nbformat": 4,
  "nbformat_minor": 0,
  "metadata": {
    "colab": {
      "name": "Info Retrieval.ipynb",
      "provenance": [],
      "collapsed_sections": []
    },
    "kernelspec": {
      "name": "python3",
      "display_name": "Python 3"
    },
    "language_info": {
      "name": "python"
    }
  },
  "cells": [
    {
      "cell_type": "code",
      "metadata": {
        "id": "tDgIuYDeHWTJ",
        "colab": {
          "base_uri": "https://localhost:8080/"
        },
        "outputId": "8b0c187b-4083-405b-d86a-d325ec142066"
      },
      "source": [
        "!wget https://raw.githubusercontent.com/YongWei12/InformationRetrival/master/classification/labelled_data.csv\n",
        "!wget https://raw.githubusercontent.com/YongWei12/InformationRetrival/master/classification/data.csv\n",
        "!pip install spacytextblob"
      ],
      "execution_count": 41,
      "outputs": [
        {
          "output_type": "stream",
          "text": [
            "--2021-03-29 08:35:04--  https://raw.githubusercontent.com/YongWei12/InformationRetrival/master/classification/labelled_data.csv\n",
            "Resolving raw.githubusercontent.com (raw.githubusercontent.com)... 185.199.108.133, 185.199.109.133, 185.199.110.133, ...\n",
            "Connecting to raw.githubusercontent.com (raw.githubusercontent.com)|185.199.108.133|:443... connected.\n",
            "HTTP request sent, awaiting response... 200 OK\n",
            "Length: 544845 (532K) [text/plain]\n",
            "Saving to: ‘labelled_data.csv.2’\n",
            "\n",
            "labelled_data.csv.2 100%[===================>] 532.08K  --.-KB/s    in 0.05s   \n",
            "\n",
            "2021-03-29 08:35:05 (11.0 MB/s) - ‘labelled_data.csv.2’ saved [544845/544845]\n",
            "\n",
            "--2021-03-29 08:35:05--  https://raw.githubusercontent.com/YongWei12/InformationRetrival/master/classification/data.csv\n",
            "Resolving raw.githubusercontent.com (raw.githubusercontent.com)... 185.199.111.133, 185.199.110.133, 185.199.108.133, ...\n",
            "Connecting to raw.githubusercontent.com (raw.githubusercontent.com)|185.199.111.133|:443... connected.\n",
            "HTTP request sent, awaiting response... 200 OK\n",
            "Length: 8736149 (8.3M) [text/plain]\n",
            "Saving to: ‘data.csv.2’\n",
            "\n",
            "data.csv.2          100%[===================>]   8.33M  29.5MB/s    in 0.3s    \n",
            "\n",
            "2021-03-29 08:35:07 (29.5 MB/s) - ‘data.csv.2’ saved [8736149/8736149]\n",
            "\n",
            "Requirement already satisfied: spacytextblob in /usr/local/lib/python3.7/dist-packages (0.1.7)\n",
            "Requirement already satisfied: spacy<3.0.0,>=2.3.2 in /usr/local/lib/python3.7/dist-packages (from spacytextblob) (2.3.5)\n",
            "Requirement already satisfied: textblob<0.16.0,>=0.15.3 in /usr/local/lib/python3.7/dist-packages (from spacytextblob) (0.15.3)\n",
            "Requirement already satisfied: thinc<7.5.0,>=7.4.1 in /usr/local/lib/python3.7/dist-packages (from spacy<3.0.0,>=2.3.2->spacytextblob) (7.4.5)\n",
            "Requirement already satisfied: numpy>=1.15.0 in /usr/local/lib/python3.7/dist-packages (from spacy<3.0.0,>=2.3.2->spacytextblob) (1.19.5)\n",
            "Requirement already satisfied: tqdm<5.0.0,>=4.38.0 in /usr/local/lib/python3.7/dist-packages (from spacy<3.0.0,>=2.3.2->spacytextblob) (4.41.1)\n",
            "Requirement already satisfied: catalogue<1.1.0,>=0.0.7 in /usr/local/lib/python3.7/dist-packages (from spacy<3.0.0,>=2.3.2->spacytextblob) (1.0.0)\n",
            "Requirement already satisfied: plac<1.2.0,>=0.9.6 in /usr/local/lib/python3.7/dist-packages (from spacy<3.0.0,>=2.3.2->spacytextblob) (1.1.3)\n",
            "Requirement already satisfied: preshed<3.1.0,>=3.0.2 in /usr/local/lib/python3.7/dist-packages (from spacy<3.0.0,>=2.3.2->spacytextblob) (3.0.5)\n",
            "Requirement already satisfied: srsly<1.1.0,>=1.0.2 in /usr/local/lib/python3.7/dist-packages (from spacy<3.0.0,>=2.3.2->spacytextblob) (1.0.5)\n",
            "Requirement already satisfied: setuptools in /usr/local/lib/python3.7/dist-packages (from spacy<3.0.0,>=2.3.2->spacytextblob) (54.1.2)\n",
            "Requirement already satisfied: blis<0.8.0,>=0.4.0 in /usr/local/lib/python3.7/dist-packages (from spacy<3.0.0,>=2.3.2->spacytextblob) (0.4.1)\n",
            "Requirement already satisfied: requests<3.0.0,>=2.13.0 in /usr/local/lib/python3.7/dist-packages (from spacy<3.0.0,>=2.3.2->spacytextblob) (2.23.0)\n",
            "Requirement already satisfied: cymem<2.1.0,>=2.0.2 in /usr/local/lib/python3.7/dist-packages (from spacy<3.0.0,>=2.3.2->spacytextblob) (2.0.5)\n",
            "Requirement already satisfied: wasabi<1.1.0,>=0.4.0 in /usr/local/lib/python3.7/dist-packages (from spacy<3.0.0,>=2.3.2->spacytextblob) (0.8.2)\n",
            "Requirement already satisfied: murmurhash<1.1.0,>=0.28.0 in /usr/local/lib/python3.7/dist-packages (from spacy<3.0.0,>=2.3.2->spacytextblob) (1.0.5)\n",
            "Requirement already satisfied: nltk>=3.1 in /usr/local/lib/python3.7/dist-packages (from textblob<0.16.0,>=0.15.3->spacytextblob) (3.2.5)\n",
            "Requirement already satisfied: importlib-metadata>=0.20; python_version < \"3.8\" in /usr/local/lib/python3.7/dist-packages (from catalogue<1.1.0,>=0.0.7->spacy<3.0.0,>=2.3.2->spacytextblob) (3.7.2)\n",
            "Requirement already satisfied: chardet<4,>=3.0.2 in /usr/local/lib/python3.7/dist-packages (from requests<3.0.0,>=2.13.0->spacy<3.0.0,>=2.3.2->spacytextblob) (3.0.4)\n",
            "Requirement already satisfied: idna<3,>=2.5 in /usr/local/lib/python3.7/dist-packages (from requests<3.0.0,>=2.13.0->spacy<3.0.0,>=2.3.2->spacytextblob) (2.10)\n",
            "Requirement already satisfied: certifi>=2017.4.17 in /usr/local/lib/python3.7/dist-packages (from requests<3.0.0,>=2.13.0->spacy<3.0.0,>=2.3.2->spacytextblob) (2020.12.5)\n",
            "Requirement already satisfied: urllib3!=1.25.0,!=1.25.1,<1.26,>=1.21.1 in /usr/local/lib/python3.7/dist-packages (from requests<3.0.0,>=2.13.0->spacy<3.0.0,>=2.3.2->spacytextblob) (1.24.3)\n",
            "Requirement already satisfied: six in /usr/local/lib/python3.7/dist-packages (from nltk>=3.1->textblob<0.16.0,>=0.15.3->spacytextblob) (1.15.0)\n",
            "Requirement already satisfied: zipp>=0.5 in /usr/local/lib/python3.7/dist-packages (from importlib-metadata>=0.20; python_version < \"3.8\"->catalogue<1.1.0,>=0.0.7->spacy<3.0.0,>=2.3.2->spacytextblob) (3.4.1)\n",
            "Requirement already satisfied: typing-extensions>=3.6.4; python_version < \"3.8\" in /usr/local/lib/python3.7/dist-packages (from importlib-metadata>=0.20; python_version < \"3.8\"->catalogue<1.1.0,>=0.0.7->spacy<3.0.0,>=2.3.2->spacytextblob) (3.7.4.3)\n"
          ],
          "name": "stdout"
        }
      ]
    },
    {
      "cell_type": "code",
      "metadata": {
        "colab": {
          "base_uri": "https://localhost:8080/"
        },
        "id": "RZddCQTIHZMU",
        "outputId": "9aef0535-a41c-45fa-a008-44e6e0aced87"
      },
      "source": [
        "import pandas as pd\n",
        "import nltk\n",
        "from nltk.corpus import stopwords\n",
        "import re\n",
        "\n",
        "nltk.download('stopwords')\n",
        "stop_words = stopwords.words('english')\n",
        "\n",
        "def cleaner(tweet):\n",
        "    # remove urls\n",
        "    tweet = re.sub(r'http\\S+', ' ', tweet)\n",
        "    # remove html tags\n",
        "    tweet = re.sub(r'<.*?>',' ', tweet)\n",
        "    # remove digits\n",
        "    tweet = re.sub(r'\\d+',' ', tweet)\n",
        "    # remove hashtags\n",
        "    tweet = re.sub(r'#\\w+',' ', tweet)\n",
        "    # remove mentions\n",
        "    tweet = re.sub(r'@\\w+',' ', tweet)\n",
        "    #remove emoji\n",
        "    emoji_pattern = re.compile(\"[\"\n",
        "    u\"\\U0001F600-\\U0001F64F\"  # emoticons\n",
        "    u\"\\U0001F300-\\U0001F5FF\"  # symbols & pictographs\n",
        "    u\"\\U0001F680-\\U0001F6FF\"  # transport & map symbols\n",
        "    u\"\\U0001F1E0-\\U0001F1FF\"  # flags (iOS)\n",
        "                           \"]+\", flags=re.UNICODE)\n",
        "    tweet = emoji_pattern.sub(r'', tweet)    \n",
        "    #removing stop words\n",
        "    tweet = tweet.split()\n",
        "    tweet = \" \".join([word for word in tweet if not word in stop_words])\n",
        "    return  tweet\n",
        "\n",
        "\n",
        "data = pd.read_csv(\"labelled_data.csv\", error_bad_lines=False)[[\"tweet\", \"polarity\"]]\n",
        "data['tweet'] = data['tweet'].apply(lambda x:x.lower())\n",
        "data['tweet'] = data['tweet'].apply(lambda x: ' '.join([w for w in x.split() if len(w)>3]))\n",
        "data['tweet'] = data['tweet'].apply(cleaner)\n",
        "data.head()\n",
        "print(data.shape)\n",
        "print(data.polarity.value_counts())"
      ],
      "execution_count": 42,
      "outputs": [
        {
          "output_type": "stream",
          "text": [
            "[nltk_data] Downloading package stopwords to /root/nltk_data...\n",
            "[nltk_data]   Package stopwords is already up-to-date!\n",
            "(942, 2)\n",
            "neutral     493\n",
            "negative    249\n",
            "positive    200\n",
            "Name: polarity, dtype: int64\n"
          ],
          "name": "stdout"
        }
      ]
    },
    {
      "cell_type": "code",
      "metadata": {
        "id": "GA8zq1iSO2ZD"
      },
      "source": [
        "\n",
        "import numpy as np\n",
        "import sklearn\n",
        "import spacy\n",
        "from spacytextblob.spacytextblob import SpacyTextBlob\n",
        "import seaborn as sns\n",
        "import matplotlib.pyplot as plt\n",
        "import time\n",
        "\n",
        "# Approach 1: using spacy\n",
        "# nlp = spacy.load('en_core_web_sm')\n",
        "# spacy_text_blob = SpacyTextBlob()\n",
        "# nlp.add_pipe(spacy_text_blob)\n",
        "# def calculate(s):\n",
        "#     x = nlp(s['tweet'])\n",
        "#     return x._.sentiment.polarity, x._.sentiment.subjectivity\n",
        "# start = time.time()\n",
        "# data[['polarity_score', 'subjectivity_score']] = data.apply(calculate, axis = 1, result_type = 'expand')\n",
        "# end = time.time()\n",
        "# time_taken = end - start\n",
        "# Results\n",
        "# precision (weighted): 58.46%\n",
        "# recall (weighted): 56.58%\n",
        "# f1 (weighted): 55.52%\n",
        "# time taken: 13.21sec\n",
        "# time to process each tweet: 0.01402sec\n",
        "\n",
        "# Approach 2: using textblob\n",
        "from textblob import TextBlob\n",
        "start = time.time()\n",
        "def calculate(s):\n",
        "    x = TextBlob(s['tweet'])\n",
        "    return x.polarity, x.subjectivity\n",
        "data[['polarity_score', 'subjectivity_score']] = data.apply(calculate, axis = 1, result_type = 'expand')\n",
        "end = time.time()\n",
        "time_taken = end - start\n",
        "# Results\n",
        "# precision (weighted): 58.46%\n",
        "# recall (weighted): 56.58%\n",
        "# f1 (weighted): 55.52%\n",
        "# time taken: 0.59sec\n",
        "# time to process each tweet: 0.00062sec"
      ],
      "execution_count": 43,
      "outputs": []
    },
    {
      "cell_type": "code",
      "metadata": {
        "colab": {
          "base_uri": "https://localhost:8080/"
        },
        "id": "XsxTLvU3uhnc",
        "outputId": "c4acefe5-9cd8-4354-c815-466643e33622"
      },
      "source": [
        "# If < subjectivity_threshold, mark as neutral\n",
        "# If >= subjectivity_threshold, then we consider if it is positive or negative\n",
        "subjectivity_threshold = 0.45\n",
        "\n",
        "conditions = [\n",
        "    (data['subjectivity_score'] < subjectivity_threshold),\n",
        "    (data['subjectivity_score'] >= subjectivity_threshold) & (data['polarity_score'] > 0),\n",
        "    (data['subjectivity_score'] >= subjectivity_threshold) & (data['polarity_score'] < 0),\n",
        "    (data['subjectivity_score'] >= subjectivity_threshold) & (data['polarity_score'] == 0)\n",
        "    ]\n",
        "\n",
        "choices = ['neutral', 'positive', 'negative', 'neutral']\n",
        "\n",
        "data['predicted_polarity'] = np.select(conditions, choices)\n",
        "\n",
        "#data.drop(columns = [\"polarity_score\", \"subjectivity_score\"], inplace = True)\n",
        "\n",
        "# Provide evaluation metrics such as precision, recall, and F-measure and discuss results\n",
        "# Discuss performance metrics, e.g., records classified per second, and scalability of the system\n",
        "\n",
        "# because we have \"neutral\", \"positive\" and \"negative\", so we cannot use \"binary\" for average\n",
        "weighted_precision = sklearn.metrics.precision_score(y_true = data[\"polarity\"], y_pred = data[\"predicted_polarity\"], average = \"weighted\")\n",
        "weighted_recall = sklearn.metrics.recall_score(y_true = data[\"polarity\"], y_pred = data[\"predicted_polarity\"], average = \"weighted\")\n",
        "weighted_f1 = sklearn.metrics.f1_score(y_true = data[\"polarity\"], y_pred = data[\"predicted_polarity\"], average = \"weighted\")\n",
        "\n",
        "print(\"precision (weighted): {}%\".format(round(weighted_precision * 100, 2)))\n",
        "print(\"recall (weighted): {}%\".format(round(weighted_recall * 100, 2)))\n",
        "print(\"f1 (weighted): {}%\".format(round(weighted_f1 * 100, 2)))\n",
        "print(\"time taken: {}sec\".format(round(time_taken, 2)))\n",
        "print(\"time to process each tweet: {}sec\".format(round(time_taken / data.shape[0], 5)))\n",
        "\n"
      ],
      "execution_count": 44,
      "outputs": [
        {
          "output_type": "stream",
          "text": [
            "precision (weighted): 58.46%\n",
            "recall (weighted): 56.58%\n",
            "f1 (weighted): 55.52%\n",
            "time taken: 0.59sec\n",
            "time to process each tweet: 0.00062sec\n"
          ],
          "name": "stdout"
        }
      ]
    },
    {
      "cell_type": "code",
      "metadata": {
        "colab": {
          "base_uri": "https://localhost:8080/"
        },
        "id": "l_6LBhWZGfPi",
        "outputId": "16533c09-02b3-4bb5-e11a-e52ec18b2850"
      },
      "source": [
        "data[\"actual_negative\"] = data[\"polarity\"] == \"negative\"\n",
        "data[\"pred_negative\"] = data[\"predicted_polarity\"] == \"negative\"\n",
        "\n",
        "negative_precision = sklearn.metrics.precision_score(y_true = data[\"actual_negative\"], y_pred = data[\"pred_negative\"], average = \"binary\")\n",
        "negative_recall = sklearn.metrics.recall_score(y_true = data[\"actual_negative\"], y_pred = data[\"pred_negative\"], average = \"binary\")\n",
        "negative_f1 = sklearn.metrics.f1_score(y_true = data[\"actual_negative\"], y_pred = data[\"pred_negative\"], average = \"binary\")\n",
        "\n",
        "data[\"actual_positive\"] = data[\"polarity\"] == \"positive\"\n",
        "data[\"pred_positive\"] = data[\"predicted_polarity\"] == \"positive\"\n",
        "\n",
        "positive_precision = sklearn.metrics.precision_score(y_true = data[\"actual_positive\"], y_pred = data[\"pred_positive\"], average = \"binary\")\n",
        "positive_recall = sklearn.metrics.recall_score(y_true = data[\"actual_positive\"], y_pred = data[\"pred_positive\"], average = \"binary\")\n",
        "positive_f1 = sklearn.metrics.f1_score(y_true = data[\"actual_positive\"], y_pred = data[\"pred_positive\"], average = \"binary\")\n",
        "\n",
        "data[\"actual_neutral\"] = data[\"polarity\"] == \"neutral\"\n",
        "data[\"pred_neutral\"] = data[\"predicted_polarity\"] == \"neutral\"\n",
        "\n",
        "neutral_precision = sklearn.metrics.precision_score(y_true = data[\"actual_neutral\"], y_pred = data[\"pred_neutral\"], average = \"binary\")\n",
        "neutral_recall = sklearn.metrics.recall_score(y_true = data[\"actual_neutral\"], y_pred = data[\"pred_neutral\"], average = \"binary\")\n",
        "neutral_f1 = sklearn.metrics.f1_score(y_true = data[\"actual_neutral\"], y_pred = data[\"pred_neutral\"], average = \"binary\")\n",
        "\n",
        "print(\"precision (positive): {}%\".format(round(positive_precision * 100, 2)))\n",
        "print(\"recall (positive): {}%\".format(round(positive_recall * 100, 2)))\n",
        "print(\"f1 (positive): {}%\".format(round(positive_f1 * 100, 2)))\n",
        "\n",
        "print(\"precision (neutral): {}%\".format(round(neutral_precision * 100, 2)))\n",
        "print(\"recall (neutral): {}%\".format(round(neutral_recall * 100, 2)))\n",
        "print(\"f1 (neutral): {}%\".format(round(neutral_f1 * 100, 2)))\n",
        "\n",
        "print(\"precision (negative): {}%\".format(round(negative_precision * 100, 2)))\n",
        "print(\"recall (negative): {}%\".format(round(negative_recall * 100, 2)))\n",
        "print(\"f1 (negative): {}%\".format(round(negative_f1 * 100, 2)))"
      ],
      "execution_count": 46,
      "outputs": [
        {
          "output_type": "stream",
          "text": [
            "precision (positive): 40.4%\n",
            "recall (positive): 60.0%\n",
            "f1 (positive): 48.29%\n",
            "precision (neutral): 64.84%\n",
            "recall (neutral): 69.57%\n",
            "f1 (neutral): 67.12%\n",
            "precision (negative): 60.34%\n",
            "recall (negative): 28.11%\n",
            "f1 (negative): 38.36%\n"
          ],
          "name": "stdout"
        }
      ]
    },
    {
      "cell_type": "code",
      "metadata": {
        "colab": {
          "base_uri": "https://localhost:8080/",
          "height": 281
        },
        "id": "R6KTKsz7SSH6",
        "outputId": "5566cc80-42c3-49d9-d02b-201ed0342469"
      },
      "source": [
        "# graph = sns.displot(data[data['polarity'] == 'neutral'][\"subjectivity_score\"].tolist())\n",
        "# graph.fig.suptitle(\"Neutral tweet's subjectivity score\")\n",
        "\n",
        "# graph = sns.displot(data[data['polarity'] == 'positive'][\"subjectivity_score\"].tolist())\n",
        "# graph.fig.suptitle(\"Positive tweet's subjectivity score\")\n",
        "\n",
        "# graph = sns.displot(data[data['polarity'] == 'negative'][\"subjectivity_score\"].tolist())\n",
        "# graph.fig.suptitle(\"Negative tweet's subjectivity score\")\n",
        "\n",
        "sns.kdeplot(data[data['polarity'] == 'neutral'][\"subjectivity_score\"].tolist(), label = \"Neutral\")\n",
        "sns.kdeplot(data[data['polarity'] == 'positive'][\"subjectivity_score\"].tolist(), label = \"Positive\")\n",
        "sns.kdeplot(data[data['polarity'] == 'negative'][\"subjectivity_score\"].tolist(), label = \"Negative\")\n",
        "\n",
        "plt.legend()\n",
        "plt.title(\"Distribution of subjectivity scores across different classes\")\n",
        "plt.show()"
      ],
      "execution_count": 47,
      "outputs": [
        {
          "output_type": "display_data",
          "data": {
            "image/png": "[encoded data removed]",
            "text/plain": [
              "<Figure size 432x288 with 1 Axes>"
            ]
          },
          "metadata": {
            "tags": [],
            "needs_background": "light"
          }
        }
      ]
    },
    {
      "cell_type": "code",
      "metadata": {
        "id": "sRn9srWwz_Ya"
      },
      "source": [
        "# Textblob is able to achieve the same accuracy metrics as spacy\n",
        "# but at 16.94x of the speed"
      ],
      "execution_count": 48,
      "outputs": []
    },
    {
      "cell_type": "code",
      "metadata": {
        "colab": {
          "base_uri": "https://localhost:8080/"
        },
        "id": "cxctaUD6bHaI",
        "outputId": "4c360f91-db40-48cd-fdf8-b48126042937"
      },
      "source": [
        "data = pd.read_csv(\"data.csv\", error_bad_lines=False)\n",
        "\n",
        "data['tweet'] = data['tweet'].apply(lambda x:x.lower())\n",
        "data['tweet'] = data['tweet'].apply(lambda x: ' '.join([w for w in x.split() if len(w)>3]))\n",
        "data['tweet'] = data['tweet'].apply(cleaner)\n",
        "\n",
        "start = time.time()\n",
        "data[['polarity_score', 'subjectivity_score']] = data.apply(calculate, axis = 1, result_type = 'expand')\n",
        "end = time.time()\n",
        "time_taken = end - start\n",
        "\n",
        "subjectivity_threshold = 0.45\n",
        "\n",
        "conditions = [\n",
        "    (data['subjectivity_score'] < subjectivity_threshold),\n",
        "    (data['subjectivity_score'] >= subjectivity_threshold) & (data['polarity_score'] > 0),\n",
        "    (data['subjectivity_score'] >= subjectivity_threshold) & (data['polarity_score'] < 0),\n",
        "    (data['subjectivity_score'] >= subjectivity_threshold) & (data['polarity_score'] == 0)\n",
        "    ]\n",
        "\n",
        "choices = ['neutral', 'positive', 'negative', 'neutral']\n",
        "\n",
        "data['polarity'] = np.select(conditions, choices)\n",
        "\n",
        "print(\"time taken: {}sec\".format(round(time_taken, 2)))\n",
        "print(\"time to process each tweet: {}sec\".format(round(time_taken / data.shape[0], 5)))"
      ],
      "execution_count": 49,
      "outputs": [
        {
          "output_type": "stream",
          "text": [
            "time taken: 9.0sec\n",
            "time to process each tweet: 0.00062sec\n"
          ],
          "name": "stdout"
        }
      ]
    },
    {
      "cell_type": "code",
      "metadata": {
        "id": "5l1WSw4AcsOJ"
      },
      "source": [
        "data.to_csv(\"predictions.csv\", index = False)"
      ],
      "execution_count": 50,
      "outputs": []
    },
    {
      "cell_type": "code",
      "metadata": {
        "colab": {
          "base_uri": "https://localhost:8080/"
        },
        "id": "fVCvyu3ZgT6-",
        "outputId": "946ed588-dad1-49db-a2fc-f9b780bc02ab"
      },
      "source": [
        "# Approach 3\n",
        "data = pd.read_csv(\"labelled_data.csv\", error_bad_lines=False)[[\"tweet\", \"polarity\"]]\n",
        "\n",
        "data['tweet'] = data['tweet'].apply(lambda x:x.lower())\n",
        "data['tweet'] = data['tweet'].apply(lambda x: ' '.join([w for w in x.split() if len(w)>3]))\n",
        "data['tweet'] = data['tweet'].apply(cleaner)\n",
        "\n",
        "# !pip install transformers\n",
        "from transformers import pipeline\n",
        "import time\n",
        "from textblob import TextBlob\n",
        "import numpy as np\n",
        "import sklearn\n",
        "\n",
        "# Initialise Sentiment Analysis Pipeline(Bert large finetuned on SQuAD 1.0)\n",
        "nlp = pipeline('sentiment-analysis')\n",
        "\n",
        "# First we decide if neutral\n",
        "def calculate(s):\n",
        "    x = TextBlob(s['tweet'])\n",
        "    return x.polarity, x.subjectivity\n",
        "start = time.time()\n",
        "data[['polarity_score', 'subjectivity_score']] = data.apply(calculate, axis = 1, result_type = 'expand')\n",
        "end = time.time()\n",
        "time_taken = end - start\n",
        "\n",
        "subjectivity_threshold = 0.45\n",
        "conditions = [\n",
        "    (data['subjectivity_score'] < subjectivity_threshold),\n",
        "    ]\n",
        "choices = ['neutral']\n",
        "data['predicted_polarity'] = np.select(conditions, choices, default = None)\n",
        "\n",
        "start = time.time()\n",
        "sentiment = pd.DataFrame(nlp(data[data['subjectivity_score'] >= subjectivity_threshold][\"tweet\"].tolist()))\n",
        "end = time.time()\n",
        "time_taken = time_taken + end - start\n",
        "sentiment.index = data.loc[data[\"subjectivity_score\"] >= subjectivity_threshold, \"predicted_polarity\"].index\n",
        "data.loc[data[\"subjectivity_score\"] >= subjectivity_threshold, \"predicted_polarity\"] = sentiment['label']\n",
        "data.loc[:, \"predicted_polarity\"] = data.loc[:, \"predicted_polarity\"].str.lower()\n",
        "\n",
        "weighted_precision = sklearn.metrics.precision_score(y_true = data[\"polarity\"], y_pred = data[\"predicted_polarity\"], average = \"weighted\")\n",
        "weighted_recall = sklearn.metrics.recall_score(y_true = data[\"polarity\"], y_pred = data[\"predicted_polarity\"], average = \"weighted\")\n",
        "weighted_f1 = sklearn.metrics.f1_score(y_true = data[\"polarity\"], y_pred = data[\"predicted_polarity\"], average = \"weighted\")\n",
        "\n",
        "print(\"precision (weighted): {}%\".format(round(weighted_precision * 100, 2)))\n",
        "print(\"recall (weighted): {}%\".format(round(weighted_recall * 100, 2)))\n",
        "print(\"f1 (weighted): {}%\".format(round(weighted_f1 * 100, 2)))\n",
        "print(\"time taken: {}sec\".format(round(time_taken, 2)))\n",
        "print(\"time to process each tweet: {}sec\".format(round(time_taken / data.shape[0], 5)))"
      ],
      "execution_count": 51,
      "outputs": [
        {
          "output_type": "stream",
          "text": [
            "precision (weighted): 57.31%\n",
            "recall (weighted): 56.69%\n",
            "f1 (weighted): 56.68%\n",
            "time taken: 68.87sec\n",
            "time to process each tweet: 0.07311sec\n"
          ],
          "name": "stdout"
        }
      ]
    },
    {
      "cell_type": "code",
      "metadata": {
        "id": "5VhkdwGZtOUo",
        "colab": {
          "base_uri": "https://localhost:8080/"
        },
        "outputId": "aa8483a9-40c6-4aa6-8712-4c9df37609ad"
      },
      "source": [
        "data[\"actual_negative\"] = data[\"polarity\"] == \"negative\"\n",
        "data[\"pred_negative\"] = data[\"predicted_polarity\"] == \"negative\"\n",
        "\n",
        "negative_precision = sklearn.metrics.precision_score(y_true = data[\"actual_negative\"], y_pred = data[\"pred_negative\"], average = \"binary\")\n",
        "negative_recall = sklearn.metrics.recall_score(y_true = data[\"actual_negative\"], y_pred = data[\"pred_negative\"], average = \"binary\")\n",
        "negative_f1 = sklearn.metrics.f1_score(y_true = data[\"actual_negative\"], y_pred = data[\"pred_negative\"], average = \"binary\")\n",
        "\n",
        "data[\"actual_positive\"] = data[\"polarity\"] == \"positive\"\n",
        "data[\"pred_positive\"] = data[\"predicted_polarity\"] == \"positive\"\n",
        "\n",
        "positive_precision = sklearn.metrics.precision_score(y_true = data[\"actual_positive\"], y_pred = data[\"pred_positive\"], average = \"binary\")\n",
        "positive_recall = sklearn.metrics.recall_score(y_true = data[\"actual_positive\"], y_pred = data[\"pred_positive\"], average = \"binary\")\n",
        "positive_f1 = sklearn.metrics.f1_score(y_true = data[\"actual_positive\"], y_pred = data[\"pred_positive\"], average = \"binary\")\n",
        "\n",
        "data[\"actual_neutral\"] = data[\"polarity\"] == \"neutral\"\n",
        "data[\"pred_neutral\"] = data[\"predicted_polarity\"] == \"neutral\"\n",
        "\n",
        "neutral_precision = sklearn.metrics.precision_score(y_true = data[\"actual_neutral\"], y_pred = data[\"pred_neutral\"], average = \"binary\")\n",
        "neutral_recall = sklearn.metrics.recall_score(y_true = data[\"actual_neutral\"], y_pred = data[\"pred_neutral\"], average = \"binary\")\n",
        "neutral_f1 = sklearn.metrics.f1_score(y_true = data[\"actual_neutral\"], y_pred = data[\"pred_neutral\"], average = \"binary\")\n",
        "\n",
        "print(\"precision (positive): {}%\".format(round(positive_precision * 100, 2)))\n",
        "print(\"recall (positive): {}%\".format(round(positive_recall * 100, 2)))\n",
        "print(\"f1 (positive): {}%\".format(round(positive_f1 * 100, 2)))\n",
        "\n",
        "print(\"precision (neutral): {}%\".format(round(neutral_precision * 100, 2)))\n",
        "print(\"recall (neutral): {}%\".format(round(neutral_recall * 100, 2)))\n",
        "print(\"f1 (neutral): {}%\".format(round(neutral_f1 * 100, 2)))\n",
        "\n",
        "print(\"precision (negative): {}%\".format(round(negative_precision * 100, 2)))\n",
        "print(\"recall (negative): {}%\".format(round(negative_recall * 100, 2)))\n",
        "print(\"f1 (negative): {}%\".format(round(negative_f1 * 100, 2)))"
      ],
      "execution_count": 53,
      "outputs": [
        {
          "output_type": "stream",
          "text": [
            "precision (positive): 57.82%\n",
            "recall (positive): 42.5%\n",
            "f1 (positive): 48.99%\n",
            "precision (neutral): 65.15%\n",
            "recall (neutral): 66.73%\n",
            "f1 (neutral): 65.93%\n",
            "precision (negative): 41.38%\n",
            "recall (negative): 48.19%\n",
            "f1 (negative): 44.53%\n"
          ],
          "name": "stdout"
        }
      ]
    },
    {
      "cell_type": "code",
      "metadata": {
        "id": "90xfAtueAdbl"
      },
      "source": [
        ""
      ],
      "execution_count": null,
      "outputs": []
    }
  ]
}