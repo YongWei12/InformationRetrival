{
  "nbformat": 4,
  "nbformat_minor": 0,
  "metadata": {
    "colab": {
      "name": "Classification.ipynb",
      "provenance": [],
      "collapsed_sections": []
    },
    "kernelspec": {
      "name": "python3",
      "display_name": "Python 3"
    },
    "language_info": {
      "name": "python"
    }
  },
  "cells": [
    {
      "cell_type": "code",
      "metadata": {
        "id": "tDgIuYDeHWTJ",
        "colab": {
          "base_uri": "https://localhost:8080/"
        },
        "outputId": "a046284b-31a9-4bc9-a354-2da8c7897243"
      },
      "source": [
        "!wget https://raw.githubusercontent.com/YongWei12/InformationRetrival/master/classification/labelled_data.csv\n",
        "!wget https://raw.githubusercontent.com/YongWei12/InformationRetrival/master/classification/data.csv\n",
        "!pip install spacytextblob"
      ],
      "execution_count": 49,
      "outputs": [
        {
          "output_type": "stream",
          "text": [
            "--2021-03-29 16:04:11--  https://raw.githubusercontent.com/YongWei12/InformationRetrival/master/classification/labelled_data.csv\n",
            "Resolving raw.githubusercontent.com (raw.githubusercontent.com)... 185.199.108.133, 185.199.109.133, 185.199.110.133, ...\n",
            "Connecting to raw.githubusercontent.com (raw.githubusercontent.com)|185.199.108.133|:443... connected.\n",
            "HTTP request sent, awaiting response... 200 OK\n",
            "Length: 581621 (568K) [text/plain]\n",
            "Saving to: ‘labelled_data.csv.1’\n",
            "\n",
            "labelled_data.csv.1 100%[===================>] 567.99K  --.-KB/s    in 0.05s   \n",
            "\n",
            "2021-03-29 16:04:11 (11.1 MB/s) - ‘labelled_data.csv.1’ saved [581621/581621]\n",
            "\n",
            "--2021-03-29 16:04:11--  https://raw.githubusercontent.com/YongWei12/InformationRetrival/master/classification/data.csv\n",
            "Resolving raw.githubusercontent.com (raw.githubusercontent.com)... 185.199.108.133, 185.199.109.133, 185.199.110.133, ...\n",
            "Connecting to raw.githubusercontent.com (raw.githubusercontent.com)|185.199.108.133|:443... connected.\n",
            "HTTP request sent, awaiting response... 200 OK\n",
            "Length: 8736149 (8.3M) [text/plain]\n",
            "Saving to: ‘data.csv.1’\n",
            "\n",
            "data.csv.1          100%[===================>]   8.33M  28.8MB/s    in 0.3s    \n",
            "\n",
            "2021-03-29 16:04:12 (28.8 MB/s) - ‘data.csv.1’ saved [8736149/8736149]\n",
            "\n",
            "Requirement already satisfied: spacytextblob in /usr/local/lib/python3.7/dist-packages (0.1.7)\n",
            "Requirement already satisfied: spacy<3.0.0,>=2.3.2 in /usr/local/lib/python3.7/dist-packages (from spacytextblob) (2.3.5)\n",
            "Requirement already satisfied: textblob<0.16.0,>=0.15.3 in /usr/local/lib/python3.7/dist-packages (from spacytextblob) (0.15.3)\n",
            "Requirement already satisfied: preshed<3.1.0,>=3.0.2 in /usr/local/lib/python3.7/dist-packages (from spacy<3.0.0,>=2.3.2->spacytextblob) (3.0.5)\n",
            "Requirement already satisfied: requests<3.0.0,>=2.13.0 in /usr/local/lib/python3.7/dist-packages (from spacy<3.0.0,>=2.3.2->spacytextblob) (2.23.0)\n",
            "Requirement already satisfied: blis<0.8.0,>=0.4.0 in /usr/local/lib/python3.7/dist-packages (from spacy<3.0.0,>=2.3.2->spacytextblob) (0.4.1)\n",
            "Requirement already satisfied: plac<1.2.0,>=0.9.6 in /usr/local/lib/python3.7/dist-packages (from spacy<3.0.0,>=2.3.2->spacytextblob) (1.1.3)\n",
            "Requirement already satisfied: thinc<7.5.0,>=7.4.1 in /usr/local/lib/python3.7/dist-packages (from spacy<3.0.0,>=2.3.2->spacytextblob) (7.4.5)\n",
            "Requirement already satisfied: tqdm<5.0.0,>=4.38.0 in /usr/local/lib/python3.7/dist-packages (from spacy<3.0.0,>=2.3.2->spacytextblob) (4.41.1)\n",
            "Requirement already satisfied: setuptools in /usr/local/lib/python3.7/dist-packages (from spacy<3.0.0,>=2.3.2->spacytextblob) (54.1.2)\n",
            "Requirement already satisfied: numpy>=1.15.0 in /usr/local/lib/python3.7/dist-packages (from spacy<3.0.0,>=2.3.2->spacytextblob) (1.19.5)\n",
            "Requirement already satisfied: srsly<1.1.0,>=1.0.2 in /usr/local/lib/python3.7/dist-packages (from spacy<3.0.0,>=2.3.2->spacytextblob) (1.0.5)\n",
            "Requirement already satisfied: cymem<2.1.0,>=2.0.2 in /usr/local/lib/python3.7/dist-packages (from spacy<3.0.0,>=2.3.2->spacytextblob) (2.0.5)\n",
            "Requirement already satisfied: wasabi<1.1.0,>=0.4.0 in /usr/local/lib/python3.7/dist-packages (from spacy<3.0.0,>=2.3.2->spacytextblob) (0.8.2)\n",
            "Requirement already satisfied: murmurhash<1.1.0,>=0.28.0 in /usr/local/lib/python3.7/dist-packages (from spacy<3.0.0,>=2.3.2->spacytextblob) (1.0.5)\n",
            "Requirement already satisfied: catalogue<1.1.0,>=0.0.7 in /usr/local/lib/python3.7/dist-packages (from spacy<3.0.0,>=2.3.2->spacytextblob) (1.0.0)\n",
            "Requirement already satisfied: nltk>=3.1 in /usr/local/lib/python3.7/dist-packages (from textblob<0.16.0,>=0.15.3->spacytextblob) (3.2.5)\n",
            "Requirement already satisfied: certifi>=2017.4.17 in /usr/local/lib/python3.7/dist-packages (from requests<3.0.0,>=2.13.0->spacy<3.0.0,>=2.3.2->spacytextblob) (2020.12.5)\n",
            "Requirement already satisfied: chardet<4,>=3.0.2 in /usr/local/lib/python3.7/dist-packages (from requests<3.0.0,>=2.13.0->spacy<3.0.0,>=2.3.2->spacytextblob) (3.0.4)\n",
            "Requirement already satisfied: idna<3,>=2.5 in /usr/local/lib/python3.7/dist-packages (from requests<3.0.0,>=2.13.0->spacy<3.0.0,>=2.3.2->spacytextblob) (2.10)\n",
            "Requirement already satisfied: urllib3!=1.25.0,!=1.25.1,<1.26,>=1.21.1 in /usr/local/lib/python3.7/dist-packages (from requests<3.0.0,>=2.13.0->spacy<3.0.0,>=2.3.2->spacytextblob) (1.24.3)\n",
            "Requirement already satisfied: importlib-metadata>=0.20; python_version < \"3.8\" in /usr/local/lib/python3.7/dist-packages (from catalogue<1.1.0,>=0.0.7->spacy<3.0.0,>=2.3.2->spacytextblob) (3.7.2)\n",
            "Requirement already satisfied: six in /usr/local/lib/python3.7/dist-packages (from nltk>=3.1->textblob<0.16.0,>=0.15.3->spacytextblob) (1.15.0)\n",
            "Requirement already satisfied: typing-extensions>=3.6.4; python_version < \"3.8\" in /usr/local/lib/python3.7/dist-packages (from importlib-metadata>=0.20; python_version < \"3.8\"->catalogue<1.1.0,>=0.0.7->spacy<3.0.0,>=2.3.2->spacytextblob) (3.7.4.3)\n",
            "Requirement already satisfied: zipp>=0.5 in /usr/local/lib/python3.7/dist-packages (from importlib-metadata>=0.20; python_version < \"3.8\"->catalogue<1.1.0,>=0.0.7->spacy<3.0.0,>=2.3.2->spacytextblob) (3.4.1)\n"
          ],
          "name": "stdout"
        }
      ]
    },
    {
      "cell_type": "code",
      "metadata": {
        "colab": {
          "base_uri": "https://localhost:8080/"
        },
        "id": "RZddCQTIHZMU",
        "outputId": "1d2d02f1-e209-4990-f309-70b782fbb239"
      },
      "source": [
        "import pandas as pd\n",
        "import nltk\n",
        "from nltk.corpus import stopwords\n",
        "import re\n",
        "\n",
        "nltk.download('stopwords')\n",
        "stop_words = stopwords.words('english')\n",
        "\n",
        "def cleaner(tweet):\n",
        "    # remove urls\n",
        "    tweet = re.sub(r'http\\S+', ' ', tweet)\n",
        "    # remove html tags\n",
        "    tweet = re.sub(r'<.*?>',' ', tweet)\n",
        "    # remove digits\n",
        "    tweet = re.sub(r'\\d+',' ', tweet)\n",
        "    # remove hashtags\n",
        "    tweet = re.sub(r'#\\w+',' ', tweet)\n",
        "    # remove mentions\n",
        "    tweet = re.sub(r'@\\w+',' ', tweet)\n",
        "    #remove emoji\n",
        "    emoji_pattern = re.compile(\"[\"\n",
        "    u\"\\U0001F600-\\U0001F64F\"  # emoticons\n",
        "    u\"\\U0001F300-\\U0001F5FF\"  # symbols & pictographs\n",
        "    u\"\\U0001F680-\\U0001F6FF\"  # transport & map symbols\n",
        "    u\"\\U0001F1E0-\\U0001F1FF\"  # flags (iOS)\n",
        "                           \"]+\", flags=re.UNICODE)\n",
        "    tweet = emoji_pattern.sub(r'', tweet)    \n",
        "    #removing stop words\n",
        "    tweet = tweet.split()\n",
        "    tweet = \" \".join([word for word in tweet if not word in stop_words])\n",
        "    return  tweet\n",
        "\n",
        "\n",
        "data = pd.read_csv(\"labelled_data.csv\", error_bad_lines=False)[[\"tweet\", \"polarity\"]]\n",
        "data['tweet'] = data['tweet'].apply(lambda x:x.lower())\n",
        "data['tweet'] = data['tweet'].apply(lambda x: ' '.join([w for w in x.split() if len(w)>3]))\n",
        "data['tweet'] = data['tweet'].apply(cleaner)\n",
        "data.head()\n",
        "print(data.shape)\n",
        "print(data.polarity.value_counts())"
      ],
      "execution_count": 50,
      "outputs": [
        {
          "output_type": "stream",
          "text": [
            "[nltk_data] Downloading package stopwords to /root/nltk_data...\n",
            "[nltk_data]   Package stopwords is already up-to-date!\n",
            "(1000, 2)\n",
            "neutral     500\n",
            "positive    250\n",
            "negative    250\n",
            "Name: polarity, dtype: int64\n"
          ],
          "name": "stdout"
        }
      ]
    },
    {
      "cell_type": "code",
      "metadata": {
        "id": "GA8zq1iSO2ZD"
      },
      "source": [
        "\n",
        "import numpy as np\n",
        "import sklearn\n",
        "import spacy\n",
        "from spacytextblob.spacytextblob import SpacyTextBlob\n",
        "import seaborn as sns\n",
        "import matplotlib.pyplot as plt\n",
        "import time\n",
        "\n",
        "# Approach 1: using spacy\n",
        "# nlp = spacy.load('en_core_web_sm')\n",
        "# spacy_text_blob = SpacyTextBlob()\n",
        "# nlp.add_pipe(spacy_text_blob)\n",
        "# def calculate(s):\n",
        "#     x = nlp(s['tweet'])\n",
        "#     return x._.sentiment.polarity, x._.sentiment.subjectivity\n",
        "# start = time.time()\n",
        "# data[['polarity_score', 'subjectivity_score']] = data.apply(calculate, axis = 1, result_type = 'expand')\n",
        "# end = time.time()\n",
        "# time_taken = end - start\n",
        "# Results\n",
        "# precision (weighted): 58.46%\n",
        "# recall (weighted): 56.58%\n",
        "# f1 (weighted): 55.52%\n",
        "# time taken: 13.21sec\n",
        "# time to process each tweet: 0.01402sec\n",
        "\n",
        "# Approach 2: using textblob\n",
        "from textblob import TextBlob\n",
        "start = time.time()\n",
        "def calculate(s):\n",
        "    x = TextBlob(s['tweet'])\n",
        "    return x.polarity, x.subjectivity\n",
        "data[['polarity_score', 'subjectivity_score']] = data.apply(calculate, axis = 1, result_type = 'expand')\n",
        "end = time.time()\n",
        "time_taken = end - start\n",
        "# Results\n",
        "# precision (weighted): 58.46%\n",
        "# recall (weighted): 56.58%\n",
        "# f1 (weighted): 55.52%\n",
        "# time taken: 0.59sec\n",
        "# time to process each tweet: 0.00062sec"
      ],
      "execution_count": 51,
      "outputs": []
    },
    {
      "cell_type": "code",
      "metadata": {
        "colab": {
          "base_uri": "https://localhost:8080/"
        },
        "id": "XsxTLvU3uhnc",
        "outputId": "79611e4d-283a-4469-bb19-ecfef8e69495"
      },
      "source": [
        "# If < subjectivity_threshold, mark as neutral\n",
        "# If >= subjectivity_threshold, then we consider if it is positive or negative\n",
        "subjectivity_threshold = 0.45\n",
        "\n",
        "conditions = [\n",
        "    (data['subjectivity_score'] < subjectivity_threshold),\n",
        "    (data['subjectivity_score'] >= subjectivity_threshold) & (data['polarity_score'] > 0),\n",
        "    (data['subjectivity_score'] >= subjectivity_threshold) & (data['polarity_score'] < 0),\n",
        "    (data['subjectivity_score'] >= subjectivity_threshold) & (data['polarity_score'] == 0)\n",
        "    ]\n",
        "\n",
        "choices = ['neutral', 'positive', 'negative', 'neutral']\n",
        "\n",
        "data['predicted_polarity'] = np.select(conditions, choices)\n",
        "\n",
        "#data.drop(columns = [\"polarity_score\", \"subjectivity_score\"], inplace = True)\n",
        "\n",
        "# Provide evaluation metrics such as precision, recall, and F-measure and discuss results\n",
        "# Discuss performance metrics, e.g., records classified per second, and scalability of the system\n",
        "\n",
        "# because we have \"neutral\", \"positive\" and \"negative\", so we cannot use \"binary\" for average\n",
        "weighted_precision = sklearn.metrics.precision_score(y_true = data[\"polarity\"], y_pred = data[\"predicted_polarity\"], average = \"weighted\")\n",
        "weighted_recall = sklearn.metrics.recall_score(y_true = data[\"polarity\"], y_pred = data[\"predicted_polarity\"], average = \"weighted\")\n",
        "weighted_f1 = sklearn.metrics.f1_score(y_true = data[\"polarity\"], y_pred = data[\"predicted_polarity\"], average = \"weighted\")\n",
        "\n",
        "print(\"precision (weighted): {}%\".format(round(weighted_precision * 100, 2)))\n",
        "print(\"recall (weighted): {}%\".format(round(weighted_recall * 100, 2)))\n",
        "print(\"f1 (weighted): {}%\".format(round(weighted_f1 * 100, 2)))\n",
        "print(\"time taken: {}sec\".format(round(time_taken, 2)))\n",
        "print(\"time to process each tweet: {}sec\".format(round(time_taken / data.shape[0], 5)))\n",
        "\n"
      ],
      "execution_count": 52,
      "outputs": [
        {
          "output_type": "stream",
          "text": [
            "precision (weighted): 57.81%\n",
            "recall (weighted): 56.9%\n",
            "f1 (weighted): 55.62%\n",
            "time taken: 0.58sec\n",
            "time to process each tweet: 0.00058sec\n"
          ],
          "name": "stdout"
        }
      ]
    },
    {
      "cell_type": "code",
      "metadata": {
        "colab": {
          "base_uri": "https://localhost:8080/"
        },
        "id": "l_6LBhWZGfPi",
        "outputId": "29130cb0-cf33-4460-b28b-cb85961639bc"
      },
      "source": [
        "data[\"actual_negative\"] = data[\"polarity\"] == \"negative\"\n",
        "data[\"pred_negative\"] = data[\"predicted_polarity\"] == \"negative\"\n",
        "\n",
        "negative_precision = sklearn.metrics.precision_score(y_true = data[\"actual_negative\"], y_pred = data[\"pred_negative\"], average = \"binary\")\n",
        "negative_recall = sklearn.metrics.recall_score(y_true = data[\"actual_negative\"], y_pred = data[\"pred_negative\"], average = \"binary\")\n",
        "negative_f1 = sklearn.metrics.f1_score(y_true = data[\"actual_negative\"], y_pred = data[\"pred_negative\"], average = \"binary\")\n",
        "\n",
        "data[\"actual_positive\"] = data[\"polarity\"] == \"positive\"\n",
        "data[\"pred_positive\"] = data[\"predicted_polarity\"] == \"positive\"\n",
        "\n",
        "positive_precision = sklearn.metrics.precision_score(y_true = data[\"actual_positive\"], y_pred = data[\"pred_positive\"], average = \"binary\")\n",
        "positive_recall = sklearn.metrics.recall_score(y_true = data[\"actual_positive\"], y_pred = data[\"pred_positive\"], average = \"binary\")\n",
        "positive_f1 = sklearn.metrics.f1_score(y_true = data[\"actual_positive\"], y_pred = data[\"pred_positive\"], average = \"binary\")\n",
        "\n",
        "data[\"actual_neutral\"] = data[\"polarity\"] == \"neutral\"\n",
        "data[\"pred_neutral\"] = data[\"predicted_polarity\"] == \"neutral\"\n",
        "\n",
        "neutral_precision = sklearn.metrics.precision_score(y_true = data[\"actual_neutral\"], y_pred = data[\"pred_neutral\"], average = \"binary\")\n",
        "neutral_recall = sklearn.metrics.recall_score(y_true = data[\"actual_neutral\"], y_pred = data[\"pred_neutral\"], average = \"binary\")\n",
        "neutral_f1 = sklearn.metrics.f1_score(y_true = data[\"actual_neutral\"], y_pred = data[\"pred_neutral\"], average = \"binary\")\n",
        "\n",
        "print(\"precision (positive): {}%\".format(round(positive_precision * 100, 2)))\n",
        "print(\"recall (positive): {}%\".format(round(positive_recall * 100, 2)))\n",
        "print(\"f1 (positive): {}%\".format(round(positive_f1 * 100, 2)))\n",
        "\n",
        "print(\"precision (neutral): {}%\".format(round(neutral_precision * 100, 2)))\n",
        "print(\"recall (neutral): {}%\".format(round(neutral_recall * 100, 2)))\n",
        "print(\"f1 (neutral): {}%\".format(round(neutral_f1 * 100, 2)))\n",
        "\n",
        "print(\"precision (negative): {}%\".format(round(negative_precision * 100, 2)))\n",
        "print(\"recall (negative): {}%\".format(round(negative_recall * 100, 2)))\n",
        "print(\"f1 (negative): {}%\".format(round(negative_f1 * 100, 2)))"
      ],
      "execution_count": 53,
      "outputs": [
        {
          "output_type": "stream",
          "text": [
            "precision (positive): 45.62%\n",
            "recall (positive): 60.4%\n",
            "f1 (positive): 51.98%\n",
            "precision (neutral): 63.16%\n",
            "recall (neutral): 69.6%\n",
            "f1 (neutral): 66.22%\n",
            "precision (negative): 59.32%\n",
            "recall (negative): 28.0%\n",
            "f1 (negative): 38.04%\n"
          ],
          "name": "stdout"
        }
      ]
    },
    {
      "cell_type": "code",
      "metadata": {
        "colab": {
          "base_uri": "https://localhost:8080/",
          "height": 281
        },
        "id": "R6KTKsz7SSH6",
        "outputId": "f4099246-65cc-4b68-872f-a29f04587b2d"
      },
      "source": [
        "# graph = sns.displot(data[data['polarity'] == 'neutral'][\"subjectivity_score\"].tolist())\n",
        "# graph.fig.suptitle(\"Neutral tweet's subjectivity score\")\n",
        "\n",
        "# graph = sns.displot(data[data['polarity'] == 'positive'][\"subjectivity_score\"].tolist())\n",
        "# graph.fig.suptitle(\"Positive tweet's subjectivity score\")\n",
        "\n",
        "# graph = sns.displot(data[data['polarity'] == 'negative'][\"subjectivity_score\"].tolist())\n",
        "# graph.fig.suptitle(\"Negative tweet's subjectivity score\")\n",
        "\n",
        "sns.kdeplot(data[data['polarity'] == 'neutral'][\"subjectivity_score\"].tolist(), label = \"Neutral\")\n",
        "sns.kdeplot(data[data['polarity'] == 'positive'][\"subjectivity_score\"].tolist(), label = \"Positive\")\n",
        "sns.kdeplot(data[data['polarity'] == 'negative'][\"subjectivity_score\"].tolist(), label = \"Negative\")\n",
        "\n",
        "plt.legend()\n",
        "plt.title(\"Distribution of subjectivity scores across different classes\")\n",
        "plt.show()"
      ],
      "execution_count": 54,
      "outputs": [
        {
          "output_type": "display_data",
          "data": {
            "image/png": "[encoded data removed]",
            "text/plain": [
              "<Figure size 432x288 with 1 Axes>"
            ]
          },
          "metadata": {
            "tags": [],
            "needs_background": "light"
          }
        }
      ]
    },
    {
      "cell_type": "code",
      "metadata": {
        "id": "sRn9srWwz_Ya"
      },
      "source": [
        "# Textblob is able to achieve the same accuracy metrics as spacy\n",
        "# but at 16.94x of the speed"
      ],
      "execution_count": 55,
      "outputs": []
    },
    {
      "cell_type": "code",
      "metadata": {
        "colab": {
          "base_uri": "https://localhost:8080/"
        },
        "id": "cxctaUD6bHaI",
        "outputId": "d0340b0a-eda3-4600-f4eb-91b486af0364"
      },
      "source": [
        "data = pd.read_csv(\"data.csv\", error_bad_lines=False)\n",
        "\n",
        "data['tweet'] = data['tweet'].apply(lambda x:x.lower())\n",
        "data['tweet'] = data['tweet'].apply(lambda x: ' '.join([w for w in x.split() if len(w)>3]))\n",
        "data['tweet'] = data['tweet'].apply(cleaner)\n",
        "\n",
        "start = time.time()\n",
        "data[['polarity_score', 'subjectivity_score']] = data.apply(calculate, axis = 1, result_type = 'expand')\n",
        "end = time.time()\n",
        "time_taken = end - start\n",
        "\n",
        "subjectivity_threshold = 0.45\n",
        "\n",
        "conditions = [\n",
        "    (data['subjectivity_score'] < subjectivity_threshold),\n",
        "    (data['subjectivity_score'] >= subjectivity_threshold) & (data['polarity_score'] > 0),\n",
        "    (data['subjectivity_score'] >= subjectivity_threshold) & (data['polarity_score'] < 0),\n",
        "    (data['subjectivity_score'] >= subjectivity_threshold) & (data['polarity_score'] == 0)\n",
        "    ]\n",
        "\n",
        "choices = ['neutral', 'positive', 'negative', 'neutral']\n",
        "\n",
        "data['polarity'] = np.select(conditions, choices)\n",
        "\n",
        "print(\"time taken: {}sec\".format(round(time_taken, 2)))\n",
        "print(\"time to process each tweet: {}sec\".format(round(time_taken / data.shape[0], 5)))"
      ],
      "execution_count": 56,
      "outputs": [
        {
          "output_type": "stream",
          "text": [
            "time taken: 8.68sec\n",
            "time to process each tweet: 0.0006sec\n"
          ],
          "name": "stdout"
        }
      ]
    },
    {
      "cell_type": "code",
      "metadata": {
        "id": "5l1WSw4AcsOJ"
      },
      "source": [
        "data.to_csv(\"predictions.csv\", index = False)"
      ],
      "execution_count": 57,
      "outputs": []
    },
    {
      "cell_type": "code",
      "metadata": {
        "colab": {
          "base_uri": "https://localhost:8080/"
        },
        "id": "fVCvyu3ZgT6-",
        "outputId": "96b23adc-7416-4743-d8f6-f89fe878f7f3"
      },
      "source": [
        "# Approach 3\n",
        "data = pd.read_csv(\"labelled_data.csv\", error_bad_lines=False)[[\"tweet\", \"polarity\"]]\n",
        "\n",
        "data['tweet'] = data['tweet'].apply(lambda x:x.lower())\n",
        "data['tweet'] = data['tweet'].apply(lambda x: ' '.join([w for w in x.split() if len(w)>3]))\n",
        "data['tweet'] = data['tweet'].apply(cleaner)\n",
        "\n",
        "#!pip install transformers\n",
        "from transformers import pipeline\n",
        "import time\n",
        "from textblob import TextBlob\n",
        "import numpy as np\n",
        "import sklearn\n",
        "\n",
        "# Initialise Sentiment Analysis Pipeline(Bert large finetuned on SQuAD 1.0)\n",
        "nlp = pipeline('sentiment-analysis')\n",
        "\n",
        "# First we decide if neutral\n",
        "def calculate(s):\n",
        "    x = TextBlob(s['tweet'])\n",
        "    return x.polarity, x.subjectivity\n",
        "start = time.time()\n",
        "data[['polarity_score', 'subjectivity_score']] = data.apply(calculate, axis = 1, result_type = 'expand')\n",
        "end = time.time()\n",
        "time_taken = end - start\n",
        "\n",
        "subjectivity_threshold = 0.45\n",
        "conditions = [\n",
        "    (data['subjectivity_score'] < subjectivity_threshold),\n",
        "    ]\n",
        "choices = ['neutral']\n",
        "data['predicted_polarity'] = np.select(conditions, choices, default = None)\n",
        "\n",
        "start = time.time()\n",
        "sentiment = pd.DataFrame(nlp(data[data['subjectivity_score'] >= subjectivity_threshold][\"tweet\"].tolist()))\n",
        "end = time.time()\n",
        "time_taken = time_taken + end - start\n",
        "sentiment.index = data.loc[data[\"subjectivity_score\"] >= subjectivity_threshold, \"predicted_polarity\"].index\n",
        "data.loc[data[\"subjectivity_score\"] >= subjectivity_threshold, \"predicted_polarity\"] = sentiment['label']\n",
        "data.loc[:, \"predicted_polarity\"] = data.loc[:, \"predicted_polarity\"].str.lower()\n",
        "\n",
        "weighted_precision = sklearn.metrics.precision_score(y_true = data[\"polarity\"], y_pred = data[\"predicted_polarity\"], average = \"weighted\")\n",
        "weighted_recall = sklearn.metrics.recall_score(y_true = data[\"polarity\"], y_pred = data[\"predicted_polarity\"], average = \"weighted\")\n",
        "weighted_f1 = sklearn.metrics.f1_score(y_true = data[\"polarity\"], y_pred = data[\"predicted_polarity\"], average = \"weighted\")\n",
        "\n",
        "print(\"precision (weighted): {}%\".format(round(weighted_precision * 100, 2)))\n",
        "print(\"recall (weighted): {}%\".format(round(weighted_recall * 100, 2)))\n",
        "print(\"f1 (weighted): {}%\".format(round(weighted_f1 * 100, 2)))\n",
        "print(\"time taken: {}sec\".format(round(time_taken, 2)))\n",
        "print(\"time to process each tweet: {}sec\".format(round(time_taken / data.shape[0], 5)))"
      ],
      "execution_count": 58,
      "outputs": [
        {
          "output_type": "stream",
          "text": [
            "precision (weighted): 56.87%\n",
            "recall (weighted): 55.6%\n",
            "f1 (weighted): 55.54%\n",
            "time taken: 75.11sec\n",
            "time to process each tweet: 0.07511sec\n"
          ],
          "name": "stdout"
        }
      ]
    },
    {
      "cell_type": "code",
      "metadata": {
        "id": "5VhkdwGZtOUo",
        "colab": {
          "base_uri": "https://localhost:8080/"
        },
        "outputId": "b270fc48-1753-4d34-b030-9414c6eb9925"
      },
      "source": [
        "data[\"actual_negative\"] = data[\"polarity\"] == \"negative\"\n",
        "data[\"pred_negative\"] = data[\"predicted_polarity\"] == \"negative\"\n",
        "\n",
        "negative_precision = sklearn.metrics.precision_score(y_true = data[\"actual_negative\"], y_pred = data[\"pred_negative\"], average = \"binary\")\n",
        "negative_recall = sklearn.metrics.recall_score(y_true = data[\"actual_negative\"], y_pred = data[\"pred_negative\"], average = \"binary\")\n",
        "negative_f1 = sklearn.metrics.f1_score(y_true = data[\"actual_negative\"], y_pred = data[\"pred_negative\"], average = \"binary\")\n",
        "\n",
        "data[\"actual_positive\"] = data[\"polarity\"] == \"positive\"\n",
        "data[\"pred_positive\"] = data[\"predicted_polarity\"] == \"positive\"\n",
        "\n",
        "positive_precision = sklearn.metrics.precision_score(y_true = data[\"actual_positive\"], y_pred = data[\"pred_positive\"], average = \"binary\")\n",
        "positive_recall = sklearn.metrics.recall_score(y_true = data[\"actual_positive\"], y_pred = data[\"pred_positive\"], average = \"binary\")\n",
        "positive_f1 = sklearn.metrics.f1_score(y_true = data[\"actual_positive\"], y_pred = data[\"pred_positive\"], average = \"binary\")\n",
        "\n",
        "data[\"actual_neutral\"] = data[\"polarity\"] == \"neutral\"\n",
        "data[\"pred_neutral\"] = data[\"predicted_polarity\"] == \"neutral\"\n",
        "\n",
        "neutral_precision = sklearn.metrics.precision_score(y_true = data[\"actual_neutral\"], y_pred = data[\"pred_neutral\"], average = \"binary\")\n",
        "neutral_recall = sklearn.metrics.recall_score(y_true = data[\"actual_neutral\"], y_pred = data[\"pred_neutral\"], average = \"binary\")\n",
        "neutral_f1 = sklearn.metrics.f1_score(y_true = data[\"actual_neutral\"], y_pred = data[\"pred_neutral\"], average = \"binary\")\n",
        "\n",
        "print(\"precision (positive): {}%\".format(round(positive_precision * 100, 2)))\n",
        "print(\"recall (positive): {}%\".format(round(positive_recall * 100, 2)))\n",
        "print(\"f1 (positive): {}%\".format(round(positive_f1 * 100, 2)))\n",
        "\n",
        "print(\"precision (neutral): {}%\".format(round(neutral_precision * 100, 2)))\n",
        "print(\"recall (neutral): {}%\".format(round(neutral_recall * 100, 2)))\n",
        "print(\"f1 (neutral): {}%\".format(round(neutral_f1 * 100, 2)))\n",
        "\n",
        "print(\"precision (negative): {}%\".format(round(negative_precision * 100, 2)))\n",
        "print(\"recall (negative): {}%\".format(round(negative_recall * 100, 2)))\n",
        "print(\"f1 (negative): {}%\".format(round(negative_f1 * 100, 2)))"
      ],
      "execution_count": 59,
      "outputs": [
        {
          "output_type": "stream",
          "text": [
            "precision (positive): 61.59%\n",
            "recall (positive): 40.4%\n",
            "f1 (positive): 48.79%\n",
            "precision (neutral): 63.38%\n",
            "recall (neutral): 66.8%\n",
            "f1 (neutral): 65.04%\n",
            "precision (negative): 39.16%\n",
            "recall (negative): 48.4%\n",
            "f1 (negative): 43.29%\n"
          ],
          "name": "stdout"
        }
      ]
    },
    {
      "cell_type": "code",
      "metadata": {
        "id": "90xfAtueAdbl"
      },
      "source": [
        "#Approach 4 (Question 5 Ensemble Classification: Max Voting with 3 base model: Gradient Boosting Classifier, Decision Tree Classifier, K-Nearest Neighbour\n",
        "from sklearn.model_selection import train_test_split, cross_val_score\n",
        "from sklearn.feature_extraction.text import CountVectorizer\n",
        "from sklearn.linear_model import LogisticRegression\n",
        "from sklearn.metrics import classification_report\n",
        "from sklearn.model_selection import GridSearchCV\n"
      ],
      "execution_count": 60,
      "outputs": []
    },
    {
      "cell_type": "code",
      "metadata": {
        "id": "chpf5U1jsJpI"
      },
      "source": [
        "# converting polarity to number, Neutral = 0 , Positive = 1 , Negative = 2\n",
        "data.loc[data['polarity']=='neutral','polarity']= 0\n",
        "data.loc[data['polarity']=='positive','polarity']= 1\n",
        "data.loc[data['polarity']=='negative','polarity']= 2\n",
        "data['polarity']= data['polarity'].astype(str).astype(int)"
      ],
      "execution_count": 61,
      "outputs": []
    },
    {
      "cell_type": "code",
      "metadata": {
        "id": "Q-sO_7-XsYDl"
      },
      "source": [
        "#splitting data set to train and test set 80%:20%\n",
        "X_train, X_test, y_train, y_test = train_test_split(data['tweet'], data['polarity'], test_size=0.2, random_state=42)"
      ],
      "execution_count": 62,
      "outputs": []
    },
    {
      "cell_type": "code",
      "metadata": {
        "id": "n-LMsyWJsv6L"
      },
      "source": [
        "#To represent text data numerically so that we can run Gradient Boosting Classifier, Decision Tree Classifier, K-Nearest Neighbour\n",
        "vectorizer = CountVectorizer(stop_words='english',ngram_range=(1,2),min_df=5).fit(data.tweet)\n",
        "XTrainVec = vectorizer.transform(X_train)\n",
        "XTestVec = vectorizer.transform(X_test)\n"
      ],
      "execution_count": 63,
      "outputs": []
    },
    {
      "cell_type": "code",
      "metadata": {
        "colab": {
          "base_uri": "https://localhost:8080/"
        },
        "id": "4V8cwCslt00P",
        "outputId": "5a6c4d70-c6c8-4fcd-e40b-44b2c073534a"
      },
      "source": [
        "#Gradient Boosting Classifier\n",
        "from sklearn.ensemble import GradientBoostingClassifier\n",
        "gbcmodel= GradientBoostingClassifier(learning_rate=0.005,random_state=1)\n",
        "gbcmodel.fit(XTrainVec, y_train)\n",
        "gbcmodel.score(XTestVec,y_test)\n"
      ],
      "execution_count": 64,
      "outputs": [
        {
          "output_type": "execute_result",
          "data": {
            "text/plain": [
              "0.6"
            ]
          },
          "metadata": {
            "tags": []
          },
          "execution_count": 64
        }
      ]
    },
    {
      "cell_type": "code",
      "metadata": {
        "colab": {
          "base_uri": "https://localhost:8080/"
        },
        "id": "cwoegakBuQQA",
        "outputId": "38f7d52c-51b8-4878-900f-e9d07cd305ba"
      },
      "source": [
        "print(classification_report(y_test, gbcmodel.predict(XTestVec)))"
      ],
      "execution_count": 65,
      "outputs": [
        {
          "output_type": "stream",
          "text": [
            "              precision    recall  f1-score   support\n",
            "\n",
            "           0       0.58      0.98      0.73       109\n",
            "           1       0.81      0.28      0.41        47\n",
            "           2       0.00      0.00      0.00        44\n",
            "\n",
            "    accuracy                           0.60       200\n",
            "   macro avg       0.46      0.42      0.38       200\n",
            "weighted avg       0.51      0.60      0.50       200\n",
            "\n"
          ],
          "name": "stdout"
        },
        {
          "output_type": "stream",
          "text": [
            "/usr/local/lib/python3.7/dist-packages/sklearn/metrics/_classification.py:1272: UndefinedMetricWarning: Precision and F-score are ill-defined and being set to 0.0 in labels with no predicted samples. Use `zero_division` parameter to control this behavior.\n",
            "  _warn_prf(average, modifier, msg_start, len(result))\n"
          ],
          "name": "stderr"
        }
      ]
    },
    {
      "cell_type": "code",
      "metadata": {
        "colab": {
          "base_uri": "https://localhost:8080/"
        },
        "id": "q4v4kpM0t20n",
        "outputId": "cebd1ce4-1ff0-4b38-8c08-bc98a922db8b"
      },
      "source": [
        "#Decision Tree Classifier\n",
        "from sklearn.tree import DecisionTreeClassifier\n",
        "dtmodel=DecisionTreeClassifier(random_state=0)\n",
        "dtmodel.fit(XTrainVec, y_train)\n",
        "dtmodel.score(XTestVec,y_test)"
      ],
      "execution_count": 66,
      "outputs": [
        {
          "output_type": "execute_result",
          "data": {
            "text/plain": [
              "0.595"
            ]
          },
          "metadata": {
            "tags": []
          },
          "execution_count": 66
        }
      ]
    },
    {
      "cell_type": "code",
      "metadata": {
        "colab": {
          "base_uri": "https://localhost:8080/"
        },
        "id": "-1K9FEfLuSFP",
        "outputId": "2448f991-3cfd-4832-ac4a-52533a980ff1"
      },
      "source": [
        "print(classification_report(y_test, dtmodel.predict(XTestVec)))"
      ],
      "execution_count": 67,
      "outputs": [
        {
          "output_type": "stream",
          "text": [
            "              precision    recall  f1-score   support\n",
            "\n",
            "           0       0.67      0.62      0.64       109\n",
            "           1       0.58      0.62      0.60        47\n",
            "           2       0.46      0.50      0.48        44\n",
            "\n",
            "    accuracy                           0.59       200\n",
            "   macro avg       0.57      0.58      0.57       200\n",
            "weighted avg       0.60      0.59      0.60       200\n",
            "\n"
          ],
          "name": "stdout"
        }
      ]
    },
    {
      "cell_type": "code",
      "metadata": {
        "colab": {
          "base_uri": "https://localhost:8080/"
        },
        "id": "k8GrXPzPujMX",
        "outputId": "9ac69bb5-bb65-4e61-92c2-ed08e852206e"
      },
      "source": [
        "#K-nearest Neighbour k =3\n",
        "from sklearn.neighbors import KNeighborsClassifier\n",
        "knnmodel = KNeighborsClassifier(n_neighbors=1)\n",
        "knnmodel.fit(XTrainVec,y_train)\n",
        "knnmodel.score(XTestVec,y_test)\n"
      ],
      "execution_count": 68,
      "outputs": [
        {
          "output_type": "execute_result",
          "data": {
            "text/plain": [
              "0.62"
            ]
          },
          "metadata": {
            "tags": []
          },
          "execution_count": 68
        }
      ]
    },
    {
      "cell_type": "code",
      "metadata": {
        "colab": {
          "base_uri": "https://localhost:8080/"
        },
        "id": "toBYiLmRvvm-",
        "outputId": "db401232-6ccb-4c87-c535-aba68e1bbfae"
      },
      "source": [
        "print(classification_report(y_test, knnmodel.predict(XTestVec)))"
      ],
      "execution_count": 69,
      "outputs": [
        {
          "output_type": "stream",
          "text": [
            "              precision    recall  f1-score   support\n",
            "\n",
            "           0       0.66      0.72      0.69       109\n",
            "           1       0.63      0.57      0.60        47\n",
            "           2       0.47      0.41      0.44        44\n",
            "\n",
            "    accuracy                           0.62       200\n",
            "   macro avg       0.59      0.57      0.58       200\n",
            "weighted avg       0.61      0.62      0.62       200\n",
            "\n"
          ],
          "name": "stdout"
        }
      ]
    },
    {
      "cell_type": "code",
      "metadata": {
        "colab": {
          "base_uri": "https://localhost:8080/"
        },
        "id": "cP2SfmVHt_hK",
        "outputId": "7d7d673f-7435-4a27-efff-6f781634cb9c"
      },
      "source": [
        "#Ensemble Classification:Max voting using Gradient Boosting Classifier and Decision Tree Classifier\n",
        "from sklearn.ensemble import VotingClassifier\n",
        "votmodel = VotingClassifier(estimators=[('gbc', gbcmodel), ('dt', dtmodel), ('knn', knnmodel)], voting='hard')\n",
        "votmodel.fit(XTrainVec,y_train)\n",
        "votmodel.score(XTestVec,y_test)\n"
      ],
      "execution_count": 70,
      "outputs": [
        {
          "output_type": "execute_result",
          "data": {
            "text/plain": [
              "0.675"
            ]
          },
          "metadata": {
            "tags": []
          },
          "execution_count": 70
        }
      ]
    },
    {
      "cell_type": "code",
      "metadata": {
        "colab": {
          "base_uri": "https://localhost:8080/"
        },
        "id": "thiwsIucuPCc",
        "outputId": "bb3f9e2a-8c1e-4fc6-f021-bfdb4088f715"
      },
      "source": [
        "print(classification_report(y_test, votmodel.predict(XTestVec)))"
      ],
      "execution_count": 71,
      "outputs": [
        {
          "output_type": "stream",
          "text": [
            "              precision    recall  f1-score   support\n",
            "\n",
            "           0       0.67      0.86      0.75       109\n",
            "           1       0.76      0.53      0.62        47\n",
            "           2       0.62      0.36      0.46        44\n",
            "\n",
            "    accuracy                           0.68       200\n",
            "   macro avg       0.68      0.59      0.61       200\n",
            "weighted avg       0.68      0.68      0.66       200\n",
            "\n"
          ],
          "name": "stdout"
        }
      ]
    }
  ]
}